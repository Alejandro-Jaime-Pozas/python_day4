{
 "cells": [
  {
   "cell_type": "code",
   "execution_count": 15,
   "metadata": {},
   "outputs": [
    {
     "name": "stdout",
     "output_type": "stream",
     "text": [
      "['F', 'f']\n"
     ]
    },
    {
     "data": {
      "text/plain": [
       "'Outage'"
      ]
     },
     "execution_count": 15,
     "metadata": {},
     "output_type": "execute_result"
    }
   ],
   "source": [
    "def street_lights(l_street):\n",
    "#     l_street is a list\n",
    "    lights_list = []\n",
    "    for light in l_street:\n",
    "        if light.lower() == \"f\":\n",
    "            lights_list.append(light)\n",
    "    print(lights_list)\n",
    "    if len(lights_list) < 2:\n",
    "        return \"Power\"\n",
    "    else:\n",
    "        return \"Outage\"\n",
    "    \n",
    "street_lights(['T', 'F', 'f', 'T'])"
   ]
  }
 ],
 "metadata": {
  "kernelspec": {
   "display_name": "Python 3",
   "language": "python",
   "name": "python3"
  },
  "language_info": {
   "codemirror_mode": {
    "name": "ipython",
    "version": 3
   },
   "file_extension": ".py",
   "mimetype": "text/x-python",
   "name": "python",
   "nbconvert_exporter": "python",
   "pygments_lexer": "ipython3",
   "version": "3.8.3"
  }
 },
 "nbformat": 4,
 "nbformat_minor": 4
}
